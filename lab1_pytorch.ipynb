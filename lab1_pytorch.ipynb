{
 "cells": [
  {
   "cell_type": "markdown",
   "metadata": {},
   "source": [
    "# Лабораторная работа 1. Введение в PyTorch"
   ]
  },
  {
   "cell_type": "markdown",
   "metadata": {},
   "source": [
    "### Содержание\n",
    "1. [Установка](#Установка)\n",
    "1. [Тензоры](#Тензоры)\n",
    "1. [Автоматическое дифференцирование](#Автоматическое-дифференцирование)\n",
    "1. [Линейная регрессия в PyTorch](#Линейная-регрессия-в-PyTorch)\n",
    "1. [Линейная классификация в PyTorch](#Линейная-классификация-в-PyTorch)"
   ]
  },
  {
   "cell_type": "markdown",
   "metadata": {},
   "source": [
    "### Установка\n",
    "Чтобы установить PyTorch, нужно на [официальном сайте](https://pytorch.org/get-started/locally/) сгенерировать команду для установки в зависимости от версии операционной системы и других параметров.  \n",
    "Рекомендуется также установить [CUDA](https://developer.nvidia.com/cuda-zone) (Compute Unified Device Architecture) – вычислительную платформу от Nvidia для поддержки вычислений на видеокартах и [CuDNN](https://developer.nvidia.com/cudnn) (CUDA Deep Neural Network) – библиотеку на основе CUDA для поддержки глубоких нейронных сетей.  \n",
    "Проверить правильность установки и узнать версии используемого ПО можно следующим образом:"
   ]
  },
  {
   "cell_type": "code",
   "execution_count": 1,
   "metadata": {
    "ExecuteTime": {
     "end_time": "2024-08-14T10:07:03.722479700Z",
     "start_time": "2024-08-14T10:06:59.207195Z"
    }
   },
   "outputs": [],
   "source": [
    "import torch\n",
    "import sys"
   ]
  },
  {
   "cell_type": "code",
   "execution_count": 2,
   "metadata": {
    "ExecuteTime": {
     "end_time": "2024-08-14T10:07:04.960536900Z",
     "start_time": "2024-08-14T10:07:03.726484700Z"
    }
   },
   "outputs": [
    {
     "name": "stdout",
     "output_type": "stream",
     "text": [
      "Wed Aug 14 13:07:04 2024       \n",
      "+-----------------------------------------------------------------------------------------+\n",
      "| NVIDIA-SMI 556.12                 Driver Version: 556.12         CUDA Version: 12.5     |\n",
      "|-----------------------------------------+------------------------+----------------------+\n",
      "| GPU  Name                  Driver-Model | Bus-Id          Disp.A | Volatile Uncorr. ECC |\n",
      "| Fan  Temp   Perf          Pwr:Usage/Cap |           Memory-Usage | GPU-Util  Compute M. |\n",
      "|                                         |                        |               MIG M. |\n",
      "|=========================================+========================+======================|\n",
      "|   0  NVIDIA GeForce GTX 1650      WDDM  |   00000000:01:00.0 Off |                  N/A |\n",
      "| N/A   45C    P8              3W /   50W |       0MiB /   4096MiB |      0%      Default |\n",
      "|                                         |                        |                  N/A |\n",
      "+-----------------------------------------+------------------------+----------------------+\n",
      "                                                                                         \n",
      "+-----------------------------------------------------------------------------------------+\n",
      "| Processes:                                                                              |\n",
      "|  GPU   GI   CI        PID   Type   Process name                              GPU Memory |\n",
      "|        ID   ID                                                               Usage      |\n",
      "|=========================================================================================|\n",
      "|  No running processes found                                                             |\n",
      "+-----------------------------------------------------------------------------------------+\n"
     ]
    }
   ],
   "source": [
    "# Утилита от Nvidia для вывода информации о видеокарте\n",
    "!nvidia-smi"
   ]
  },
  {
   "cell_type": "code",
   "execution_count": 3,
   "metadata": {
    "ExecuteTime": {
     "end_time": "2024-08-14T10:07:05.103152700Z",
     "start_time": "2024-08-14T10:07:04.961541800Z"
    }
   },
   "outputs": [
    {
     "name": "stdout",
     "output_type": "stream",
     "text": [
      "Python VERSION: 3.11.5 | packaged by Anaconda, Inc. | (main, Sep 11 2023, 13:26:23) [MSC v.1916 64 bit (AMD64)]\n",
      "\n",
      "pyTorch VERSION: 2.3.0+cu118\n",
      "\n",
      "CUDA VERSION:\n",
      "\n",
      "CUDNN VERSION: 8700\n",
      "\n",
      "Number CUDA Devices: 1\n",
      "Current cuda device: 0\n",
      "Cuda device name:  NVIDIA GeForce GTX 1650\n"
     ]
    }
   ],
   "source": [
    "print('Python VERSION:', sys.version)\n",
    "print('\\npyTorch VERSION:', torch.__version__)\n",
    "print('\\nCUDA VERSION:')\n",
    "# ! nvcc --version\n",
    "print('\\nCUDNN VERSION:', torch.backends.cudnn.version())\n",
    "print('\\nNumber CUDA Devices:', torch.cuda.device_count())\n",
    "print('Current cuda device:', torch.cuda.current_device())\n",
    "print('Cuda device name: ', torch.cuda.get_device_name(0))"
   ]
  },
  {
   "cell_type": "markdown",
   "metadata": {},
   "source": [
    "---\n",
    "Проверить доступность CUDA можно также следующим образом:"
   ]
  },
  {
   "cell_type": "code",
   "execution_count": 4,
   "metadata": {
    "ExecuteTime": {
     "end_time": "2024-08-14T10:07:05.159390500Z",
     "start_time": "2024-08-14T10:07:05.034086800Z"
    }
   },
   "outputs": [
    {
     "data": {
      "text/plain": "True"
     },
     "execution_count": 4,
     "metadata": {},
     "output_type": "execute_result"
    }
   ],
   "source": [
    "torch.cuda.is_available()"
   ]
  },
  {
   "cell_type": "markdown",
   "metadata": {},
   "source": [
    "### Тензоры\n",
    "*Тензор* – многомерный массив данных в библиотеках глубокого обучения. Тензор может быть 0-мерным (скаляр), одномерным (вектор), двумерным (матрица) или размерностью больше двух.  \n",
    "Тензоры используются для представления входов, выходов и параметров моделей."
   ]
  },
  {
   "cell_type": "markdown",
   "metadata": {},
   "source": [
    "#### Инициализация тензоров\n",
    "Тензоры могут быть инициализированы несколькими способами."
   ]
  },
  {
   "cell_type": "markdown",
   "metadata": {},
   "source": [
    "1. На основе данных:"
   ]
  },
  {
   "cell_type": "code",
   "execution_count": 5,
   "metadata": {
    "ExecuteTime": {
     "end_time": "2024-08-14T10:07:05.187074700Z",
     "start_time": "2024-08-14T10:07:05.050548800Z"
    }
   },
   "outputs": [
    {
     "data": {
      "text/plain": "tensor([[1, 2],\n        [3, 4]])"
     },
     "execution_count": 5,
     "metadata": {},
     "output_type": "execute_result"
    }
   ],
   "source": [
    "data = [[1, 2],[3, 4]]\n",
    "x_data = torch.tensor(data)\n",
    "x_data"
   ]
  },
  {
   "cell_type": "markdown",
   "metadata": {},
   "source": [
    "2. Из массивов NumPy:"
   ]
  },
  {
   "cell_type": "code",
   "execution_count": 6,
   "metadata": {
    "ExecuteTime": {
     "end_time": "2024-08-14T10:07:05.361476800Z",
     "start_time": "2024-08-14T10:07:05.085740900Z"
    }
   },
   "outputs": [
    {
     "data": {
      "text/plain": "tensor([[1, 2],\n        [3, 4]], dtype=torch.int32)"
     },
     "execution_count": 6,
     "metadata": {},
     "output_type": "execute_result"
    }
   ],
   "source": [
    "import numpy as np\n",
    "np_array = np.array(data)\n",
    "x_np = torch.from_numpy(np_array)\n",
    "x_np"
   ]
  },
  {
   "cell_type": "markdown",
   "metadata": {},
   "source": [
    "3. Заполненные случайным образом или константными значениями:"
   ]
  },
  {
   "cell_type": "code",
   "execution_count": 7,
   "metadata": {
    "ExecuteTime": {
     "end_time": "2024-08-14T10:07:05.396081600Z",
     "start_time": "2024-08-14T10:07:05.094154Z"
    }
   },
   "outputs": [
    {
     "name": "stdout",
     "output_type": "stream",
     "text": [
      "Random Tensor: \n",
      " tensor([[0.4356, 0.7513, 0.8867],\n",
      "        [0.4411, 0.7331, 0.9775]]) \n",
      "\n",
      "Ones Tensor: \n",
      " tensor([[1., 1., 1.],\n",
      "        [1., 1., 1.]]) \n",
      "\n",
      "Zeros Tensor: \n",
      " tensor([[0., 0., 0.],\n",
      "        [0., 0., 0.]])\n"
     ]
    }
   ],
   "source": [
    "shape = (2,3)\n",
    "rand_tensor = torch.rand(shape)\n",
    "ones_tensor = torch.ones(shape)\n",
    "zeros_tensor = torch.zeros(shape)\n",
    "\n",
    "print(f'Random Tensor: \\n {rand_tensor} \\n')\n",
    "print(f'Ones Tensor: \\n {ones_tensor} \\n')\n",
    "print(f'Zeros Tensor: \\n {zeros_tensor}')"
   ]
  },
  {
   "cell_type": "markdown",
   "metadata": {},
   "source": [
    "#### Атрибуты тензоров\n",
    "Тензоры имеют несколько атрибутов, в том числе:"
   ]
  },
  {
   "cell_type": "code",
   "execution_count": 8,
   "metadata": {
    "ExecuteTime": {
     "end_time": "2024-08-14T10:07:05.420229200Z",
     "start_time": "2024-08-14T10:07:05.141086700Z"
    }
   },
   "outputs": [
    {
     "name": "stdout",
     "output_type": "stream",
     "text": [
      "Shape of tensor: torch.Size([3, 4])\n",
      "Datatype of tensor: torch.float32\n",
      "Device tensor is stored on the following device: cpu\n"
     ]
    },
    {
     "data": {
      "text/plain": "tensor([[0.7324, 0.7801, 0.9585, 0.5028],\n        [0.1316, 0.2224, 0.8002, 0.9622],\n        [0.9730, 0.7546, 0.3012, 0.4019]])"
     },
     "execution_count": 8,
     "metadata": {},
     "output_type": "execute_result"
    }
   ],
   "source": [
    "tensor = torch.rand(3, 4)\n",
    "print(f'Shape of tensor: {tensor.shape}')\n",
    "print(f'Datatype of tensor: {tensor.dtype}')\n",
    "print(f'Device tensor is stored on the following device: {tensor.device}')\n",
    "tensor"
   ]
  },
  {
   "cell_type": "markdown",
   "metadata": {},
   "source": [
    "#### Операции над тензорами\n",
    "По умолчанию тензоры создаются на CPU.  \n",
    "Чтобы переместить их на GPU нужно вызвать метод `to`:"
   ]
  },
  {
   "cell_type": "code",
   "execution_count": 9,
   "metadata": {
    "ExecuteTime": {
     "end_time": "2024-08-14T10:07:05.453672200Z",
     "start_time": "2024-08-14T10:07:05.152385600Z"
    }
   },
   "outputs": [
    {
     "name": "stdout",
     "output_type": "stream",
     "text": [
      "Tensor is stored on: cpu\n",
      "Tensor is stored on: cuda:0\n"
     ]
    }
   ],
   "source": [
    "print(f'Tensor is stored on: {tensor.device}')\n",
    "if torch.cuda.is_available():\n",
    "    tensor = tensor.to('cuda')\n",
    "print(f'Tensor is stored on: {tensor.device}')"
   ]
  },
  {
   "cell_type": "markdown",
   "metadata": {},
   "source": [
    "---\n",
    "Индексирование и срезы (slicing):"
   ]
  },
  {
   "cell_type": "code",
   "execution_count": 10,
   "metadata": {
    "ExecuteTime": {
     "end_time": "2024-08-14T10:07:05.471665400Z",
     "start_time": "2024-08-14T10:07:05.316942300Z"
    }
   },
   "outputs": [
    {
     "name": "stdout",
     "output_type": "stream",
     "text": [
      "Initial tensor:\n",
      "tensor([[ 1,  2,  3,  4],\n",
      "        [ 5,  6,  7,  8],\n",
      "        [ 9, 10, 11, 12]])\n",
      "\n",
      "First row: tensor([1, 2, 3, 4])\n",
      "\n",
      "First column: tensor([1, 5, 9])\n",
      "\n",
      "Last column: tensor([ 4,  8, 12])\n",
      "\n",
      "tensor([[ 1,  0,  3,  4],\n",
      "        [ 5,  0,  7,  8],\n",
      "        [ 9,  0, 11, 12]])\n"
     ]
    }
   ],
   "source": [
    "tensor = torch.tensor([[1, 2, 3, 4], [5, 6, 7, 8], [9, 10, 11, 12]])\n",
    "print(f'Initial tensor:\\n{tensor}\\n')\n",
    "print(f'First row: {tensor[0]}\\n')\n",
    "print(f'First column: {tensor[:, 0]}\\n')\n",
    "print(f'Last column: {tensor[..., -1]}\\n')\n",
    "tensor[:,1] = 0\n",
    "print(tensor)"
   ]
  },
  {
   "cell_type": "markdown",
   "metadata": {},
   "source": [
    "---\n",
    "Конкатенация:"
   ]
  },
  {
   "cell_type": "code",
   "execution_count": 11,
   "metadata": {
    "ExecuteTime": {
     "end_time": "2024-08-14T10:07:05.475667500Z",
     "start_time": "2024-08-14T10:07:05.333069700Z"
    }
   },
   "outputs": [
    {
     "name": "stdout",
     "output_type": "stream",
     "text": [
      "tensor([[ 1,  0,  3,  4],\n",
      "        [ 5,  0,  7,  8],\n",
      "        [ 9,  0, 11, 12]])\n",
      "tensor([[ 1,  0,  3,  4,  1,  0,  3,  4,  1,  0,  3,  4],\n",
      "        [ 5,  0,  7,  8,  5,  0,  7,  8,  5,  0,  7,  8],\n",
      "        [ 9,  0, 11, 12,  9,  0, 11, 12,  9,  0, 11, 12]])\n",
      "tensor([[ 1,  0,  3,  4],\n",
      "        [ 5,  0,  7,  8],\n",
      "        [ 9,  0, 11, 12],\n",
      "        [ 1,  0,  3,  4],\n",
      "        [ 5,  0,  7,  8],\n",
      "        [ 9,  0, 11, 12],\n",
      "        [ 1,  0,  3,  4],\n",
      "        [ 5,  0,  7,  8],\n",
      "        [ 9,  0, 11, 12]])\n"
     ]
    }
   ],
   "source": [
    "print(tensor)\n",
    "concat_tensor = torch.cat([tensor, tensor, tensor], dim=1)\n",
    "print(concat_tensor)\n",
    "concat_tensor_2 = torch.cat([tensor, tensor, tensor], dim=0)\n",
    "print(concat_tensor_2)"
   ]
  },
  {
   "cell_type": "markdown",
   "metadata": {},
   "source": [
    "---\n",
    "Арифметические операции:"
   ]
  },
  {
   "cell_type": "code",
   "execution_count": 12,
   "metadata": {
    "ExecuteTime": {
     "end_time": "2024-08-14T10:07:05.771270500Z",
     "start_time": "2024-08-14T10:07:05.349475800Z"
    }
   },
   "outputs": [
    {
     "name": "stdout",
     "output_type": "stream",
     "text": [
      "tensor1 + tensor2 = \n",
      "tensor([[2., 2., 2.],\n",
      "        [2., 2., 2.],\n",
      "        [2., 2., 2.]])\n",
      "\n",
      "tensor1 @ tensor2 = \n",
      "tensor([[3., 3., 3.],\n",
      "        [3., 3., 3.],\n",
      "        [3., 3., 3.]])\n",
      "\n",
      "torch.matmul(tensor1, tensor2) = \n",
      "tensor([[3., 3., 3.],\n",
      "        [3., 3., 3.],\n",
      "        [3., 3., 3.]])\n",
      "\n",
      "tensor1 * tensor2 = \n",
      "tensor([[1., 1., 1.],\n",
      "        [1., 1., 1.],\n",
      "        [1., 1., 1.]])\n"
     ]
    }
   ],
   "source": [
    "shape = (3, 3)\n",
    "tensor1 = torch.ones(shape)\n",
    "tensor2 = torch.ones(shape)\n",
    "tensor_sum = tensor1 + tensor2\n",
    "print(f'tensor1 + tensor2 = \\n{tensor_sum}\\n')\n",
    "tensor_mul1 = tensor1 @ tensor2\n",
    "print(f'tensor1 @ tensor2 = \\n{tensor_mul1}\\n')\n",
    "tensor_mul2 = torch.matmul(tensor1, tensor2)\n",
    "print(f'torch.matmul(tensor1, tensor2) = \\n{tensor_mul2}\\n')\n",
    "tensor_mul3 = tensor1 * tensor2\n",
    "print(f'tensor1 * tensor2 = \\n{tensor_mul3}\\n')"
   ]
  },
  {
   "cell_type": "markdown",
   "metadata": {},
   "source": [
    "---\n",
    "Тензор может состоять из одного элемента (скаляр). В этом случае для доступа к значению тензора можно воспользоваться методом `item`:"
   ]
  },
  {
   "cell_type": "code",
   "execution_count": 13,
   "metadata": {
    "ExecuteTime": {
     "end_time": "2024-08-14T10:07:05.775260800Z",
     "start_time": "2024-08-14T10:07:05.388562200Z"
    }
   },
   "outputs": [
    {
     "name": "stdout",
     "output_type": "stream",
     "text": [
      "tensor([[ 1,  0,  3,  4],\n",
      "        [ 5,  0,  7,  8],\n",
      "        [ 9,  0, 11, 12]])\n",
      "summa = 60, type(summa): <class 'torch.Tensor'>\n",
      "\n",
      "summa.item() = 60, type(summa.item()): <class 'int'>\n"
     ]
    }
   ],
   "source": [
    "print(tensor)\n",
    "summa = tensor.sum()\n",
    "print(f'summa = {summa}, type(summa): {type(summa)}\\n')\n",
    "print(f'summa.item() = {summa.item()}, type(summa.item()): {type(summa.item())}')"
   ]
  },
  {
   "cell_type": "markdown",
   "metadata": {},
   "source": [
    "---\n",
    "Операции `in-place` – это операции, результат которых сохраняется в самом операнде. Обозначаются суфиксом `_`:"
   ]
  },
  {
   "cell_type": "code",
   "execution_count": 14,
   "metadata": {
    "ExecuteTime": {
     "end_time": "2024-08-14T10:07:05.826526600Z",
     "start_time": "2024-08-14T10:07:05.396081600Z"
    }
   },
   "outputs": [
    {
     "name": "stdout",
     "output_type": "stream",
     "text": [
      "tensor([[ 1,  0,  3,  4],\n",
      "        [ 5,  0,  7,  8],\n",
      "        [ 9,  0, 11, 12]])\n",
      "\n",
      "tensor([[ 6,  5,  8,  9],\n",
      "        [10,  5, 12, 13],\n",
      "        [14,  5, 16, 17]])\n"
     ]
    }
   ],
   "source": [
    "print(f'{tensor}\\n')\n",
    "tensor.add_(5)\n",
    "print(tensor)"
   ]
  },
  {
   "cell_type": "markdown",
   "metadata": {},
   "source": [
    "### Автоматическое дифференцирование"
   ]
  },
  {
   "cell_type": "markdown",
   "metadata": {},
   "source": [
    "Для настройки весов в нейронных сетях используется *алгоритм обратного распространения ошибки* (back propagation). В этом алгоритме веса изменяются в зависимости от градиента функции ошибки.  \n",
    "В PyTorch модуль `torch.autograd` отвечает за автоматическое дифференцирование на вычислительном графе.  "
   ]
  },
  {
   "cell_type": "markdown",
   "metadata": {},
   "source": [
    "Рассмотрим сигмоидальную функцию и её производную:\n",
    "$$\\sigma(u)=\\frac{1}{1+e^{-u}}$$\n",
    "  \n",
    "$$\\sigma'(u)=\\frac{e^{-u}}{(1+e^{-u})^2}=\\frac{1}{(1+e^{-u})}\\frac{e^{-u}}{(1+e^{-u})}=\\frac{1}{(1+e^{-u})}\\frac{(1+e^{-u})-1}{(1+e^{-u})}=\\sigma(u)(1-\\sigma(u))$$"
   ]
  },
  {
   "cell_type": "markdown",
   "metadata": {},
   "source": [
    "Зададим эти функции в PyTorch и нарисуем их графики:"
   ]
  },
  {
   "cell_type": "code",
   "execution_count": 15,
   "metadata": {
    "ExecuteTime": {
     "end_time": "2024-08-14T10:07:05.827122600Z",
     "start_time": "2024-08-14T10:07:05.408487600Z"
    }
   },
   "outputs": [],
   "source": [
    "def sigmoid(u):\n",
    "    return 1 / (1 + torch.exp(-u))"
   ]
  },
  {
   "cell_type": "code",
   "execution_count": 16,
   "metadata": {
    "ExecuteTime": {
     "end_time": "2024-08-14T10:07:05.830940300Z",
     "start_time": "2024-08-14T10:07:05.415604300Z"
    }
   },
   "outputs": [],
   "source": [
    "def sigmoid_deriv(u):\n",
    "    return sigmoid(u) * (1 - sigmoid(u))"
   ]
  },
  {
   "cell_type": "code",
   "execution_count": 17,
   "metadata": {
    "ExecuteTime": {
     "end_time": "2024-08-14T10:07:06.401321900Z",
     "start_time": "2024-08-14T10:07:05.425230200Z"
    }
   },
   "outputs": [
    {
     "data": {
      "text/plain": "<Figure size 640x480 with 1 Axes>",
      "image/png": "[encoded data removed]"
     },
     "metadata": {},
     "output_type": "display_data"
    }
   ],
   "source": [
    "import matplotlib.pyplot as plt\n",
    "import numpy as np\n",
    "\n",
    "x_tensor = torch.tensor(np.linspace(-5, 5, 100))\n",
    "fig = plt.figure()\n",
    "ax = fig.add_subplot(1, 1, 1)\n",
    "\n",
    "ax.spines['left'].set_position('center')\n",
    "ax.spines['bottom'].set_position(('data', 0))\n",
    "ax.spines['right'].set_color('none')\n",
    "ax.spines['top'].set_color('none')\n",
    "\n",
    "plt.plot(x_tensor, sigmoid(x_tensor), label='sigmoid')\n",
    "plt.plot(x_tensor, sigmoid_deriv(x_tensor), label='sigmoid_deriv')\n",
    "ax.legend()\n",
    "plt.show()"
   ]
  },
  {
   "cell_type": "markdown",
   "metadata": {},
   "source": [
    "Зададим тензор, для которого мы хотели бы найти градиент (параметр `requires_grad=True`):"
   ]
  },
  {
   "cell_type": "code",
   "execution_count": 18,
   "metadata": {
    "ExecuteTime": {
     "end_time": "2024-08-14T10:07:06.430517100Z",
     "start_time": "2024-08-14T10:07:06.398320900Z"
    }
   },
   "outputs": [
    {
     "data": {
      "text/plain": "tensor(0., requires_grad=True)"
     },
     "execution_count": 18,
     "metadata": {},
     "output_type": "execute_result"
    }
   ],
   "source": [
    "u = torch.tensor(0.0, requires_grad=True)\n",
    "u"
   ]
  },
  {
   "cell_type": "markdown",
   "metadata": {},
   "source": [
    "Зададим тензор, которому присвоим значение функции "
   ]
  },
  {
   "cell_type": "code",
   "execution_count": 19,
   "metadata": {
    "ExecuteTime": {
     "end_time": "2024-08-14T10:07:06.614266900Z",
     "start_time": "2024-08-14T10:07:06.409445100Z"
    }
   },
   "outputs": [
    {
     "data": {
      "text/plain": "tensor(0.5000, grad_fn=<MulBackward0>)"
     },
     "execution_count": 19,
     "metadata": {},
     "output_type": "execute_result"
    }
   ],
   "source": [
    "s = sigmoid(u)\n",
    "s"
   ]
  },
  {
   "cell_type": "markdown",
   "metadata": {},
   "source": [
    "В атрибуте `grad_fn` хранится ссылка на функцию, которая была использована для вычисления тензора.  \n",
    "В случае задания тензора пользователем – `grad_fn = None`:"
   ]
  },
  {
   "cell_type": "code",
   "execution_count": 20,
   "metadata": {
    "ExecuteTime": {
     "end_time": "2024-08-14T10:07:06.659267300Z",
     "start_time": "2024-08-14T10:07:06.427523800Z"
    }
   },
   "outputs": [
    {
     "name": "stdout",
     "output_type": "stream",
     "text": [
      "u.grad_fn: None\n",
      "\n",
      "s.grad_fn: <MulBackward0 object at 0x000001927143AB60>\n",
      "\n",
      "(u+u).grad_fn: <AddBackward0 object at 0x000001927143AB60>\n",
      "\n",
      "(u-u).grad_fn: <SubBackward0 object at 0x000001927143AB60>\n",
      "\n",
      "(u*u).grad_fn: <MulBackward0 object at 0x000001927143AB60>\n",
      "\n",
      "(u/u).grad_fn: <DivBackward0 object at 0x000001927143AB60>\n",
      "\n",
      "(1/u).grad_fn: <MulBackward0 object at 0x000001927143AB60>\n",
      "\n",
      "mean(u).grad_fn: <MeanBackward0 object at 0x000001927143AB60>\n"
     ]
    }
   ],
   "source": [
    "print(f'u.grad_fn: {u.grad_fn}\\n')\n",
    "print(f's.grad_fn: {s.grad_fn}\\n')\n",
    "a = u + u\n",
    "print(f'(u+u).grad_fn: {a.grad_fn}\\n')\n",
    "a = u - u\n",
    "print(f'(u-u).grad_fn: {a.grad_fn}\\n')\n",
    "a = u * u\n",
    "print(f'(u*u).grad_fn: {a.grad_fn}\\n')\n",
    "a = u / u\n",
    "print(f'(u/u).grad_fn: {a.grad_fn}\\n')\n",
    "a = 1 / u\n",
    "print(f'(1/u).grad_fn: {a.grad_fn}\\n')\n",
    "a = torch.mean(u)\n",
    "print(f'mean(u).grad_fn: {a.grad_fn}')"
   ]
  },
  {
   "cell_type": "markdown",
   "metadata": {},
   "source": [
    "---\n",
    "Для вычисления градиента необходимо вызвать метод `backward`:"
   ]
  },
  {
   "cell_type": "code",
   "execution_count": 21,
   "metadata": {
    "ExecuteTime": {
     "end_time": "2024-08-14T10:07:06.660270700Z",
     "start_time": "2024-08-14T10:07:06.441878900Z"
    }
   },
   "outputs": [],
   "source": [
    "s.backward()"
   ]
  },
  {
   "cell_type": "markdown",
   "metadata": {},
   "source": [
    "Значение градиента после вызова `backward` хранится в атрибуте `grad`:"
   ]
  },
  {
   "cell_type": "code",
   "execution_count": 22,
   "metadata": {
    "ExecuteTime": {
     "end_time": "2024-08-14T10:07:06.688275200Z",
     "start_time": "2024-08-14T10:07:06.456326600Z"
    }
   },
   "outputs": [
    {
     "data": {
      "text/plain": "tensor(0.2500)"
     },
     "execution_count": 22,
     "metadata": {},
     "output_type": "execute_result"
    }
   ],
   "source": [
    "u.grad"
   ]
  },
  {
   "cell_type": "markdown",
   "metadata": {},
   "source": [
    "Проверим, что значение градиента (производной) совпадает со значением, вычисленным аналитически:"
   ]
  },
  {
   "cell_type": "code",
   "execution_count": 23,
   "metadata": {
    "ExecuteTime": {
     "end_time": "2024-08-14T10:07:06.689270100Z",
     "start_time": "2024-08-14T10:07:06.465930200Z"
    }
   },
   "outputs": [
    {
     "data": {
      "text/plain": "tensor(0.2500, grad_fn=<MulBackward0>)"
     },
     "execution_count": 23,
     "metadata": {},
     "output_type": "execute_result"
    }
   ],
   "source": [
    "sigmoid_deriv(u)"
   ]
  },
  {
   "cell_type": "markdown",
   "metadata": {},
   "source": [
    "Обратите внимание, что повторный вызов метода `backward` невозможен:"
   ]
  },
  {
   "cell_type": "code",
   "execution_count": 24,
   "metadata": {
    "ExecuteTime": {
     "end_time": "2024-08-14T10:07:06.690268400Z",
     "start_time": "2024-08-14T10:07:06.475411800Z"
    }
   },
   "outputs": [],
   "source": [
    "# Раскомментируйте эту строку\n",
    "# s.backward()"
   ]
  },
  {
   "cell_type": "markdown",
   "metadata": {},
   "source": [
    "Для того, чтобы повторно вызывать метод `backward`, следует указать при его вызове параметр `retain_graph=True`. Но имейте в виду, что в этом случае значение градиента будет накапливаться:"
   ]
  },
  {
   "cell_type": "code",
   "execution_count": 25,
   "metadata": {
    "ExecuteTime": {
     "end_time": "2024-08-14T10:07:06.691273100Z",
     "start_time": "2024-08-14T10:07:06.482426800Z"
    }
   },
   "outputs": [
    {
     "name": "stdout",
     "output_type": "stream",
     "text": [
      "a.grad = 2.0\n",
      "a.grad = 4.0\n",
      "a.grad = 6.0\n"
     ]
    }
   ],
   "source": [
    "a = torch.tensor(1.0, requires_grad=True)\n",
    "b = a * a\n",
    "b.backward(retain_graph=True)\n",
    "print(f'a.grad = {a.grad}')\n",
    "b.backward(retain_graph=True)\n",
    "print(f'a.grad = {a.grad}')\n",
    "b.backward()\n",
    "print(f'a.grad = {a.grad}')"
   ]
  },
  {
   "cell_type": "markdown",
   "metadata": {},
   "source": [
    "При необходимости градиенты можно обнулить:"
   ]
  },
  {
   "cell_type": "code",
   "execution_count": 26,
   "metadata": {
    "ExecuteTime": {
     "end_time": "2024-08-14T10:07:06.692273700Z",
     "start_time": "2024-08-14T10:07:06.493696900Z"
    }
   },
   "outputs": [
    {
     "data": {
      "text/plain": "tensor(0.)"
     },
     "execution_count": 26,
     "metadata": {},
     "output_type": "execute_result"
    }
   ],
   "source": [
    "u.grad.data.zero_()\n",
    "u.grad"
   ]
  },
  {
   "cell_type": "markdown",
   "metadata": {},
   "source": [
    "**Задание**. Проверьте значения производной сигмоидальной функции, вычисленные в разных точках. Сравните их со значениями на графике функций."
   ]
  },
  {
   "cell_type": "code",
   "execution_count": 27,
   "outputs": [
    {
     "name": "stdout",
     "output_type": "stream",
     "text": [
      "tensor([0.0452, 0.1050, 0.1966, 0.2500, 0.1966, 0.1050, 0.0452])\n",
      "tensor([0.0452, 0.1050, 0.1966, 0.2500, 0.1966, 0.1050, 0.0452],\n",
      "       grad_fn=<MulBackward0>)\n"
     ]
    }
   ],
   "source": [
    "u = torch.tensor([-3.0, -2.0, -1.0, 0.0, 1.0, 2.0, 3.0], requires_grad=True)\n",
    "s = sigmoid(u)\n",
    "s.backward(torch.ones_like(u))\n",
    "print(u.grad)\n",
    "print(sigmoid_deriv(u))"
   ],
   "metadata": {
    "collapsed": false,
    "ExecuteTime": {
     "end_time": "2024-08-14T10:07:07.632957600Z",
     "start_time": "2024-08-14T10:07:06.502265900Z"
    }
   }
  },
  {
   "cell_type": "markdown",
   "metadata": {},
   "source": [
    "---\n",
    "Отметим, что в PyTorch, конечно, имеется [своя реализация](https://pytorch.org/docs/stable/generated/torch.nn.Sigmoid.html) сигмоидальной функции."
   ]
  },
  {
   "cell_type": "markdown",
   "metadata": {},
   "source": [
    "**Задание**. Посчитайте значения градиента при помощи сигмоидальной функции из PyTorch."
   ]
  },
  {
   "cell_type": "code",
   "execution_count": 28,
   "outputs": [
    {
     "name": "stderr",
     "output_type": "stream",
     "text": [
      "No artists with labels found to put in legend.  Note that artists whose label start with an underscore are ignored when legend() is called with no argument.\n"
     ]
    },
    {
     "data": {
      "text/plain": "<Figure size 800x800 with 1 Axes>",
      "image/png": "[encoded data removed]"
     },
     "metadata": {},
     "output_type": "display_data"
    }
   ],
   "source": [
    "from torch.nn import Sigmoid\n",
    "\n",
    "plt.figure(figsize=(8, 8))\n",
    "\n",
    "x_tensor = torch.tensor(np.linspace(-5, 5, 100), dtype=torch.float32, requires_grad=True)\n",
    "\n",
    "torch_sigmoid = Sigmoid()\n",
    "\n",
    "sigmoid_x_tensor = torch_sigmoid(x_tensor)\n",
    "sigmoid_x_tensor.backward(torch.ones_like(x_tensor))\n",
    "\n",
    "ax = fig.add_subplot(1, 1, 1)\n",
    "\n",
    "ax.spines['left'].set_position('center')\n",
    "ax.spines['bottom'].set_position(('data', 0))\n",
    "ax.spines['right'].set_color('none')\n",
    "ax.spines['top'].set_color('none')\n",
    "\n",
    "plt.plot(x_tensor.detach().numpy(), sigmoid_x_tensor.detach().numpy(),color=\"blue\", marker=\"o\", markersize=2)\n",
    "plt.plot(x_tensor.detach().numpy(), x_tensor.grad.detach().numpy(), color=\"red\", marker=\"o\", markersize=2)\n",
    "\n",
    "ax.legend()\n",
    "plt.show()"
   ],
   "metadata": {
    "collapsed": false,
    "ExecuteTime": {
     "end_time": "2024-08-14T10:07:07.844022700Z",
     "start_time": "2024-08-14T10:07:07.633956800Z"
    }
   }
  },
  {
   "cell_type": "markdown",
   "metadata": {},
   "source": [
    "*Замечание*. Мы можем найти градиенты только для листьев в графе вычислений."
   ]
  },
  {
   "cell_type": "markdown",
   "metadata": {},
   "source": [
    "#### Приостановка отслеживания градиентов\n",
    "По умолчанию, PyTorch отслеживает историю вычислений и поддерживает вычисление градиентов для тензоров, у которых установлено `requires_grad=True`.  \n",
    "Однако иногда бывает необходимо приостановить отслеживание, например, когда сеть уже обучена и требуется выполнять только прямой проход или когда в процессе обучения сети нужно зафиксировать веса определенных слоев. В этом случае можно воспользоваться блоком `no_grad` или методом `detach()`:"
   ]
  },
  {
   "cell_type": "code",
   "execution_count": 29,
   "metadata": {
    "ExecuteTime": {
     "end_time": "2024-08-14T10:07:07.845029200Z",
     "start_time": "2024-08-14T10:07:07.804648600Z"
    }
   },
   "outputs": [
    {
     "name": "stdout",
     "output_type": "stream",
     "text": [
      "s.requires_grad = True\n",
      "s.requires_grad = False\n"
     ]
    }
   ],
   "source": [
    "s = sigmoid(u)\n",
    "print(f's.requires_grad = {s.requires_grad}')\n",
    "\n",
    "with torch.no_grad():\n",
    "    s = sigmoid(u)\n",
    "    \n",
    "print(f's.requires_grad = {s.requires_grad}')"
   ]
  },
  {
   "cell_type": "code",
   "execution_count": 30,
   "metadata": {
    "ExecuteTime": {
     "end_time": "2024-08-14T10:07:07.849022300Z",
     "start_time": "2024-08-14T10:07:07.811885700Z"
    }
   },
   "outputs": [
    {
     "name": "stdout",
     "output_type": "stream",
     "text": [
      "s.requires_grad = True\n",
      "s.requires_grad = False\n"
     ]
    }
   ],
   "source": [
    "s = sigmoid(u)\n",
    "print(f's.requires_grad = {s.requires_grad}')\n",
    "\n",
    "s = s.detach()\n",
    "print(f's.requires_grad = {s.requires_grad}')"
   ]
  },
  {
   "cell_type": "markdown",
   "metadata": {},
   "source": [
    "### Линейная регрессия в PyTorch"
   ]
  },
  {
   "cell_type": "markdown",
   "metadata": {},
   "source": [
    "#### Создание модели\n",
    "Построим однослойную сеть, состоящую из одного нейрона, которая аналогична обычной линейной регрессии."
   ]
  },
  {
   "cell_type": "markdown",
   "metadata": {},
   "source": [
    "Пространство имен `nn` в PyTorch предоставляет все необходимые блоки для построения нейронных сетей.  \n",
    "Каждый модуль наследует классу [nn.Module](https://pytorch.org/docs/stable/generated/torch.nn.Module.html). Нейронная сеть представляет собой также модуль, который содержит другие модули (слои)."
   ]
  },
  {
   "cell_type": "code",
   "execution_count": 31,
   "metadata": {
    "ExecuteTime": {
     "end_time": "2024-08-14T10:07:07.872020500Z",
     "start_time": "2024-08-14T10:07:07.821634100Z"
    }
   },
   "outputs": [],
   "source": [
    "from torch import nn"
   ]
  },
  {
   "cell_type": "markdown",
   "metadata": {},
   "source": [
    "Определим устройство, на котором будем обучать сеть:"
   ]
  },
  {
   "cell_type": "code",
   "execution_count": 32,
   "metadata": {
    "ExecuteTime": {
     "end_time": "2024-08-14T10:07:07.874018Z",
     "start_time": "2024-08-14T10:07:07.828355300Z"
    }
   },
   "outputs": [
    {
     "name": "stdout",
     "output_type": "stream",
     "text": [
      "Using \"cuda\" device\n"
     ]
    }
   ],
   "source": [
    "device = 'cuda' if torch.cuda.is_available() else 'cpu'\n",
    "print('Using \"{}\" device'.format(device))"
   ]
  },
  {
   "cell_type": "markdown",
   "metadata": {},
   "source": [
    "Опишем класс нашей нейронной сети (который должен являться наследником `nn.Module`):"
   ]
  },
  {
   "cell_type": "code",
   "execution_count": 33,
   "metadata": {
    "ExecuteTime": {
     "end_time": "2024-08-14T10:07:08.156496400Z",
     "start_time": "2024-08-14T10:07:07.838495800Z"
    }
   },
   "outputs": [],
   "source": [
    "class NeuralNetwork(nn.Module):\n",
    "    def __init__(self):\n",
    "        super().__init__()\n",
    "        self.regr = nn.Linear(1, 1)\n",
    "\n",
    "    def forward(self, x):\n",
    "        y = self.regr(x)\n",
    "        return y"
   ]
  },
  {
   "cell_type": "markdown",
   "metadata": {},
   "source": [
    "Метод `__init__` является конструктором класса.  \n",
    "В первой строке конструктора вызывается конструктор базового класса `nn.Module`.  \n",
    "Во второй строке создается единственный слой, содержащий один нейрон, с помощью модуля [Linear](https://pytorch.org/docs/stable/generated/torch.nn.Linear.html).  \n",
    "Данный модуль осуществляет линейное преобразование входа $\\vec{x}$ в выход $\\vec{y}$ с учетом матрицы весов $W$:  \n",
    "\n",
    "$$\\vec{y}=\\vec{x}W^T+\\vec{b}.$$\n",
    "\n",
    "Первый аргумент для `Linear` – `in_features` – количество входов $x$, второй `out_features` – количество выходов $y$ (фактически, количество нейронов в данном слое). Существует также третий аргумент – `bias`, определяющий наличие вектора свободных коэффициентов $\\vec{b}$ (по умолчанию `bias=True`).  \n",
    "Матрица весов $W$ будет иметь размерность (`out_features`, `in_features`), вектор свободных коэффициентов $\\vec{b}$ – (`out_features`).  \n",
    "Значения $W$ и $\\vec{b}$ инициализируются случайным образом из равномерного распределения $U(-\\sqrt{k},\\sqrt{k})$, где $k=\\frac{1}{in\\_features}$."
   ]
  },
  {
   "cell_type": "markdown",
   "metadata": {},
   "source": [
    "Заметим, что атрибут `requires_grad` для тензоров-весов сети автоматически устанавливается в `True`."
   ]
  },
  {
   "cell_type": "markdown",
   "metadata": {},
   "source": [
    "Метод `forward` определяет поток данных через нашу сеть (*прямой проход*). Аргумент `x` – это входные данные для сети. В нашем примере к `x` применяется линейное преобразование, результат которого является выходом сети (линейная регрессия)."
   ]
  },
  {
   "cell_type": "markdown",
   "metadata": {},
   "source": [
    "---\n",
    "Инициализируем генератор случайных чисел PyTorch для воспроизводимости результатов (для одинаковых начальных значений весов):"
   ]
  },
  {
   "cell_type": "code",
   "execution_count": 34,
   "metadata": {
    "ExecuteTime": {
     "end_time": "2024-08-14T10:07:08.305390600Z",
     "start_time": "2024-08-14T10:07:07.844022700Z"
    }
   },
   "outputs": [
    {
     "data": {
      "text/plain": "<torch._C.Generator at 0x1925f867b10>"
     },
     "execution_count": 34,
     "metadata": {},
     "output_type": "execute_result"
    }
   ],
   "source": [
    "torch.manual_seed(42)"
   ]
  },
  {
   "cell_type": "markdown",
   "metadata": {},
   "source": [
    "Создаем экземпляр класса `NeuralNetwork` и выводим структуру сети:"
   ]
  },
  {
   "cell_type": "code",
   "execution_count": 35,
   "metadata": {
    "ExecuteTime": {
     "end_time": "2024-08-14T10:07:08.306391800Z",
     "start_time": "2024-08-14T10:07:07.940151600Z"
    }
   },
   "outputs": [
    {
     "data": {
      "text/plain": "NeuralNetwork(\n  (regr): Linear(in_features=1, out_features=1, bias=True)\n)"
     },
     "execution_count": 35,
     "metadata": {},
     "output_type": "execute_result"
    }
   ],
   "source": [
    "model = NeuralNetwork()\n",
    "model"
   ]
  },
  {
   "cell_type": "markdown",
   "metadata": {},
   "source": [
    "---\n",
    "Перемещаем сеть на GPU:"
   ]
  },
  {
   "cell_type": "code",
   "execution_count": 36,
   "metadata": {
    "ExecuteTime": {
     "end_time": "2024-08-14T10:07:08.306391800Z",
     "start_time": "2024-08-14T10:07:07.946233600Z"
    }
   },
   "outputs": [
    {
     "data": {
      "text/plain": "NeuralNetwork(\n  (regr): Linear(in_features=1, out_features=1, bias=True)\n)"
     },
     "execution_count": 36,
     "metadata": {},
     "output_type": "execute_result"
    }
   ],
   "source": [
    "model.to(device)"
   ]
  },
  {
   "cell_type": "markdown",
   "metadata": {},
   "source": [
    "---\n",
    "Вывод значений весов:"
   ]
  },
  {
   "cell_type": "code",
   "execution_count": 37,
   "metadata": {
    "ExecuteTime": {
     "end_time": "2024-08-14T10:07:08.307394100Z",
     "start_time": "2024-08-14T10:07:07.960864Z"
    }
   },
   "outputs": [],
   "source": [
    "def print_weights(model):\n",
    "    for parameter in model.named_parameters():\n",
    "        print(f'{parameter[0]} = {parameter[1].data}')"
   ]
  },
  {
   "cell_type": "code",
   "execution_count": 38,
   "metadata": {
    "ExecuteTime": {
     "end_time": "2024-08-14T10:07:08.475602500Z",
     "start_time": "2024-08-14T10:07:07.966879900Z"
    }
   },
   "outputs": [
    {
     "name": "stdout",
     "output_type": "stream",
     "text": [
      "regr.weight = tensor([[0.7645]], device='cuda:0')\n",
      "regr.bias = tensor([0.8300], device='cuda:0')\n"
     ]
    }
   ],
   "source": [
    "print_weights(model)"
   ]
  },
  {
   "cell_type": "markdown",
   "metadata": {},
   "source": [
    "#### Генерация набора данных"
   ]
  },
  {
   "cell_type": "markdown",
   "metadata": {},
   "source": [
    "Инициализируем генератор случайных чисел `numpy` для воспроизводимости результатов:"
   ]
  },
  {
   "cell_type": "code",
   "execution_count": 39,
   "metadata": {
    "ExecuteTime": {
     "end_time": "2024-08-14T10:07:08.490681100Z",
     "start_time": "2024-08-14T10:07:08.181715100Z"
    }
   },
   "outputs": [],
   "source": [
    "np.random.seed(42)"
   ]
  },
  {
   "cell_type": "markdown",
   "metadata": {},
   "source": [
    "Генерируем случайные данные:  \n",
    "- $X$ – из равномерного распределения от 1 до 10,\n",
    "- $y=2x+1$ с учетом нормально распределенного шума."
   ]
  },
  {
   "cell_type": "code",
   "execution_count": 40,
   "metadata": {
    "ExecuteTime": {
     "end_time": "2024-08-14T10:07:08.521213800Z",
     "start_time": "2024-08-14T10:07:08.194713700Z"
    }
   },
   "outputs": [],
   "source": [
    "n_samples = 100\n",
    "data = np.random.uniform(1, 10, (n_samples, 1)).astype(np.float32)\n",
    "targets = 2 * data + 1 + np.random.normal(0, 2, (n_samples, 1)).astype(np.float32)"
   ]
  },
  {
   "cell_type": "code",
   "execution_count": 41,
   "metadata": {
    "ExecuteTime": {
     "end_time": "2024-08-14T10:07:08.611219700Z",
     "start_time": "2024-08-14T10:07:08.205778Z"
    }
   },
   "outputs": [
    {
     "data": {
      "text/plain": "<Figure size 640x480 with 1 Axes>",
      "image/png": "[encoded data removed]"
     },
     "metadata": {},
     "output_type": "display_data"
    }
   ],
   "source": [
    "plt.scatter(data, targets)\n",
    "plt.show()"
   ]
  },
  {
   "cell_type": "markdown",
   "metadata": {},
   "source": [
    "Создаем тензоры PyTorch:"
   ]
  },
  {
   "cell_type": "code",
   "execution_count": 42,
   "metadata": {
    "ExecuteTime": {
     "end_time": "2024-08-14T10:07:08.612214400Z",
     "start_time": "2024-08-14T10:07:08.395450700Z"
    }
   },
   "outputs": [],
   "source": [
    "data = torch.from_numpy(data)\n",
    "targets = torch.from_numpy(targets)"
   ]
  },
  {
   "cell_type": "markdown",
   "metadata": {},
   "source": [
    "Перемещаем тензоры на GPU:"
   ]
  },
  {
   "cell_type": "code",
   "execution_count": 43,
   "metadata": {
    "ExecuteTime": {
     "end_time": "2024-08-14T10:07:08.613213100Z",
     "start_time": "2024-08-14T10:07:08.402062900Z"
    }
   },
   "outputs": [],
   "source": [
    "data = data.to(device)\n",
    "targets = targets.to(device)"
   ]
  },
  {
   "cell_type": "markdown",
   "metadata": {},
   "source": [
    "Нарисуем предсказание модели со случайно инициализированными весами:"
   ]
  },
  {
   "cell_type": "code",
   "execution_count": 44,
   "metadata": {
    "ExecuteTime": {
     "end_time": "2024-08-14T10:07:08.906056200Z",
     "start_time": "2024-08-14T10:07:08.408596600Z"
    }
   },
   "outputs": [
    {
     "data": {
      "text/plain": "<Figure size 640x480 with 1 Axes>",
      "image/png": "[encoded data removed]"
     },
     "metadata": {},
     "output_type": "display_data"
    }
   ],
   "source": [
    "predictions = model(data)\n",
    "plt.scatter(data.cpu().numpy(), targets.cpu().numpy())\n",
    "plt.plot(data.cpu().detach().numpy(), predictions.cpu().detach().numpy(), color=\"red\")\n",
    "plt.legend(['True', 'Predicted'])\n",
    "plt.show()"
   ]
  },
  {
   "cell_type": "markdown",
   "metadata": {},
   "source": [
    "#### Обучение сети\n",
    "Сначала задаем функцию потерь ([MSE](https://pytorch.org/docs/stable/generated/torch.nn.MSELoss.html)):"
   ]
  },
  {
   "cell_type": "code",
   "execution_count": 45,
   "metadata": {
    "ExecuteTime": {
     "end_time": "2024-08-14T10:07:08.907055500Z",
     "start_time": "2024-08-14T10:07:08.744561Z"
    }
   },
   "outputs": [],
   "source": [
    "loss_fn = nn.MSELoss()"
   ]
  },
  {
   "cell_type": "markdown",
   "metadata": {},
   "source": [
    "Затем определим оптимизатор:"
   ]
  },
  {
   "cell_type": "code",
   "execution_count": 46,
   "metadata": {
    "ExecuteTime": {
     "end_time": "2024-08-14T10:07:10.130010100Z",
     "start_time": "2024-08-14T10:07:08.751575100Z"
    }
   },
   "outputs": [
    {
     "data": {
      "text/plain": "SGD (\nParameter Group 0\n    dampening: 0\n    differentiable: False\n    foreach: None\n    fused: None\n    lr: 0.01\n    maximize: False\n    momentum: 0\n    nesterov: False\n    weight_decay: 0\n)"
     },
     "execution_count": 46,
     "metadata": {},
     "output_type": "execute_result"
    }
   ],
   "source": [
    "learning_rate = 0.01\n",
    "optimizer = torch.optim.SGD(model.parameters(), lr=learning_rate)\n",
    "optimizer"
   ]
  },
  {
   "cell_type": "code",
   "execution_count": 47,
   "outputs": [
    {
     "data": {
      "text/plain": "tensor([[4.3709],\n        [9.5564],\n        [7.5879],\n        [6.3879],\n        [2.4042],\n        [2.4040],\n        [1.5228],\n        [8.7956],\n        [6.4100],\n        [7.3727],\n        [1.1853],\n        [9.7292],\n        [8.4920],\n        [2.9111],\n        [2.6364],\n        [2.6506],\n        [3.7382],\n        [5.7228],\n        [4.8875],\n        [3.6211],\n        [6.5067],\n        [2.2554],\n        [3.6293],\n        [4.2973],\n        [5.1046],\n        [8.0666],\n        [2.7971],\n        [5.6281],\n        [6.3317],\n        [1.4181],\n        [6.4679],\n        [2.5347],\n        [1.5855],\n        [9.5400],\n        [9.6907],\n        [8.2756],\n        [3.7415],\n        [1.8790],\n        [7.1581],\n        [4.9614],\n        [2.0983],\n        [5.4566],\n        [1.3095],\n        [9.1839],\n        [3.3290],\n        [6.9627],\n        [3.8054],\n        [5.6806],\n        [5.9204],\n        [2.6637],\n        [9.7263],\n        [7.9762],\n        [9.4555],\n        [9.0534],\n        [6.3811],\n        [9.2969],\n        [1.7964],\n        [2.7638],\n        [1.4070],\n        [3.9280],\n        [4.4981],\n        [3.4421],\n        [8.4586],\n        [4.2108],\n        [3.5284],\n        [5.8843],\n        [2.2683],\n        [8.2198],\n        [1.6710],\n        [9.8820],\n        [7.9502],\n        [2.7884],\n        [1.0497],\n        [8.3392],\n        [7.3617],\n        [7.5611],\n        [7.9414],\n        [1.6664],\n        [4.2262],\n        [2.0428],\n        [8.7679],\n        [6.6097],\n        [3.9781],\n        [1.5720],\n        [3.7988],\n        [3.9266],\n        [7.5665],\n        [6.7380],\n        [8.9849],\n        [5.2499],\n        [2.0763],\n        [7.4192],\n        [7.8471],\n        [6.0515],\n        [7.9387],\n        [5.4442],\n        [5.7046],\n        [4.8479],\n        [1.2288],\n        [1.9710]], device='cuda:0')"
     },
     "execution_count": 47,
     "metadata": {},
     "output_type": "execute_result"
    }
   ],
   "source": [
    "data"
   ],
   "metadata": {
    "collapsed": false,
    "ExecuteTime": {
     "end_time": "2024-08-14T10:07:10.161008800Z",
     "start_time": "2024-08-14T10:07:10.070588300Z"
    }
   }
  },
  {
   "cell_type": "markdown",
   "metadata": {},
   "source": [
    "Зададим функцию, определяющую действия в процессе одной эпохи обучения:"
   ]
  },
  {
   "cell_type": "code",
   "execution_count": 48,
   "metadata": {
    "ExecuteTime": {
     "end_time": "2024-08-14T10:07:10.162009200Z",
     "start_time": "2024-08-14T10:07:10.094926900Z"
    }
   },
   "outputs": [],
   "source": [
    "def train_loop(data, targets, model, loss_fn, optimizer, print_loss=True):\n",
    "    # Устанавливаем для модели режим обучения: эквивалентно model.training = True\n",
    "    # Действует только на модули Dropout, BatchNorm, InstanceNorm (https://stackoverflow.com/questions/66534762/which-pytorch-modules-are-affected-by-model-eval-and-model-train)\n",
    "    model.train()\n",
    "    \n",
    "    for i in range(len(data)):\n",
    "        # Вычисляем предсказание модели на одном объекте\n",
    "        pred = model(data[i])\n",
    "        \n",
    "        # Вычисляем функцию потерь\n",
    "        loss = loss_fn(pred, targets[i])\n",
    "\n",
    "        # Backpropagation\n",
    "        optimizer.zero_grad()\n",
    "        loss.backward()\n",
    "        optimizer.step()\n",
    "        \n",
    "        if print_loss:\n",
    "            if i % 10 == 0:\n",
    "                print(f'loss: {loss}')"
   ]
  },
  {
   "cell_type": "markdown",
   "metadata": {},
   "source": [
    "Запускаем цикл обучения:"
   ]
  },
  {
   "cell_type": "code",
   "execution_count": 49,
   "metadata": {
    "ExecuteTime": {
     "end_time": "2024-08-14T10:07:11.789224300Z",
     "start_time": "2024-08-14T10:07:10.103013900Z"
    }
   },
   "outputs": [
    {
     "name": "stdout",
     "output_type": "stream",
     "text": [
      "regr.weight = tensor([[0.7645]], device='cuda:0')\n",
      "regr.bias = tensor([0.8300], device='cuda:0')\n",
      "-------------------------------\n",
      "Epoch 1\n",
      "loss: 32.994876861572266\n",
      "loss: 3.7130351066589355\n",
      "loss: 7.4773125648498535\n",
      "loss: 16.94472312927246\n",
      "loss: 0.06362053751945496\n",
      "loss: 20.94452667236328\n",
      "loss: 11.095436096191406\n",
      "loss: 22.48904800415039\n",
      "loss: 25.47216033935547\n",
      "loss: 0.9354173541069031\n",
      "\n",
      "regr.weight = tensor([[2.0708]], device='cuda:0')\n",
      "regr.bias = tensor([1.1238], device='cuda:0')\n",
      "-------------------------------\n",
      "Epoch 2\n",
      "loss: 0.06721831113100052\n",
      "loss: 3.390458583831787\n",
      "loss: 7.715185165405273\n",
      "loss: 17.09217071533203\n",
      "loss: 0.09646038711071014\n",
      "loss: 20.185867309570312\n",
      "loss: 11.15341567993164\n",
      "loss: 22.767791748046875\n",
      "loss: 26.13392448425293\n",
      "loss: 0.8385037779808044\n",
      "\n",
      "regr.weight = tensor([[2.0542]], device='cuda:0')\n",
      "regr.bias = tensor([1.1944], device='cuda:0')\n",
      "-------------------------------\n",
      "Epoch 3\n",
      "loss: 0.06614411622285843\n",
      "loss: 3.180938482284546\n",
      "loss: 7.878329277038574\n",
      "loss: 17.192289352416992\n",
      "loss: 0.12254366278648376\n",
      "loss: 19.68047332763672\n",
      "loss: 11.192747116088867\n",
      "loss: 22.957412719726562\n",
      "loss: 26.58650016784668\n",
      "loss: 0.7759367823600769\n",
      "\n",
      "regr.weight = tensor([[2.0429]], device='cuda:0')\n",
      "regr.bias = tensor([1.2422], device='cuda:0')\n",
      "-------------------------------\n",
      "Epoch 4\n",
      "loss: 0.06542205810546875\n",
      "loss: 3.042959690093994\n",
      "loss: 7.989673137664795\n",
      "loss: 17.260211944580078\n",
      "loss: 0.14196068048477173\n",
      "loss: 19.34214210510254\n",
      "loss: 11.21938419342041\n",
      "loss: 23.08606719970703\n",
      "loss: 26.894901275634766\n",
      "loss: 0.734977662563324\n",
      "\n",
      "regr.weight = tensor([[2.0353]], device='cuda:0')\n",
      "regr.bias = tensor([1.2745], device='cuda:0')\n",
      "-------------------------------\n",
      "Epoch 5\n",
      "loss: 0.0649360790848732\n",
      "loss: 2.9513354301452637\n",
      "loss: 8.065464973449707\n",
      "loss: 17.306249618530273\n",
      "loss: 0.15590859949588776\n",
      "loss: 19.114866256713867\n",
      "loss: 11.237446784973145\n",
      "loss: 23.173376083374023\n",
      "loss: 27.10459327697754\n",
      "loss: 0.7078916430473328\n",
      "\n",
      "regr.weight = tensor([[2.0302]], device='cuda:0')\n",
      "regr.bias = tensor([1.2964], device='cuda:0')\n",
      "-------------------------------\n",
      "Epoch 6\n",
      "loss: 0.06460793316364288\n",
      "loss: 2.890133857727051\n",
      "loss: 8.116952896118164\n",
      "loss: 17.33742332458496\n",
      "loss: 0.16571737825870514\n",
      "loss: 18.961851119995117\n",
      "loss: 11.249655723571777\n",
      "loss: 23.2325439453125\n",
      "loss: 27.246919631958008\n",
      "loss: 0.6898548007011414\n",
      "\n",
      "regr.weight = tensor([[2.0267]], device='cuda:0')\n",
      "regr.bias = tensor([1.3112], device='cuda:0')\n",
      "-------------------------------\n",
      "Epoch 7\n",
      "loss: 0.06438656151294708\n",
      "loss: 2.849085569381714\n",
      "loss: 8.151877403259277\n",
      "loss: 17.358539581298828\n",
      "loss: 0.1725231111049652\n",
      "loss: 18.858671188354492\n",
      "loss: 11.257942199707031\n",
      "loss: 23.272626876831055\n",
      "loss: 27.34347915649414\n",
      "loss: 0.6777811050415039\n",
      "\n",
      "regr.weight = tensor([[2.0243]], device='cuda:0')\n",
      "regr.bias = tensor([1.3212], device='cuda:0')\n",
      "-------------------------------\n",
      "Epoch 8\n",
      "loss: 0.06423710286617279\n",
      "loss: 2.8214774131774902\n",
      "loss: 8.175556182861328\n",
      "loss: 17.37283706665039\n",
      "loss: 0.1772068738937378\n",
      "loss: 18.789026260375977\n",
      "loss: 11.26352310180664\n",
      "loss: 23.299741744995117\n",
      "loss: 27.408905029296875\n",
      "loss: 0.6696730256080627\n",
      "\n",
      "regr.weight = tensor([[2.0227]], device='cuda:0')\n",
      "regr.bias = tensor([1.3279], device='cuda:0')\n",
      "-------------------------------\n",
      "Epoch 9\n",
      "loss: 0.06413611024618149\n",
      "loss: 2.8028740882873535\n",
      "loss: 8.191597938537598\n",
      "loss: 17.382497787475586\n",
      "loss: 0.18041081726551056\n",
      "loss: 18.741945266723633\n",
      "loss: 11.267319679260254\n",
      "loss: 23.3181209564209\n",
      "loss: 27.45319938659668\n",
      "loss: 0.6642149686813354\n",
      "\n",
      "regr.weight = tensor([[2.0217]], device='cuda:0')\n",
      "regr.bias = tensor([1.3325], device='cuda:0')\n",
      "-------------------------------\n",
      "Epoch 10\n",
      "loss: 0.0640675351023674\n",
      "loss: 2.7903225421905518\n",
      "loss: 8.202459335327148\n",
      "loss: 17.3890438079834\n",
      "loss: 0.18259504437446594\n",
      "loss: 18.71013641357422\n",
      "loss: 11.269880294799805\n",
      "loss: 23.330520629882812\n",
      "loss: 27.48318862915039\n",
      "loss: 0.6605328917503357\n",
      "\n",
      "regr.weight = tensor([[2.0209]], device='cuda:0')\n",
      "regr.bias = tensor([1.3356], device='cuda:0')\n"
     ]
    }
   ],
   "source": [
    "epochs = 10\n",
    "print_weights(model)\n",
    "for t in range(epochs):\n",
    "    print(f'-------------------------------\\nEpoch {t+1}')\n",
    "    train_loop(data, targets, model, loss_fn, optimizer)\n",
    "    print()\n",
    "    print_weights(model)"
   ]
  },
  {
   "cell_type": "markdown",
   "metadata": {},
   "source": [
    "---\n",
    "Нарисуем получившуюся модель:"
   ]
  },
  {
   "cell_type": "code",
   "execution_count": 50,
   "metadata": {
    "ExecuteTime": {
     "end_time": "2024-08-14T10:07:12.088133Z",
     "start_time": "2024-08-14T10:07:11.790227100Z"
    }
   },
   "outputs": [
    {
     "data": {
      "text/plain": "<matplotlib.legend.Legend at 0x19272f6a9d0>"
     },
     "execution_count": 50,
     "metadata": {},
     "output_type": "execute_result"
    },
    {
     "data": {
      "text/plain": "<Figure size 640x480 with 1 Axes>",
      "image/png": "[encoded data removed]"
     },
     "metadata": {},
     "output_type": "display_data"
    }
   ],
   "source": [
    "# Возвращаем модель в режим инференса: эквивалентно model.training = False\n",
    "model.eval()\n",
    "\n",
    "predictions = model(data)\n",
    "plt.scatter(data.cpu().numpy(), targets.cpu().numpy())\n",
    "plt.plot(data.cpu().detach().numpy(), predictions.cpu().detach().numpy(), color=\"red\")\n",
    "plt.legend(['True', 'Predicted'])"
   ]
  },
  {
   "cell_type": "markdown",
   "metadata": {},
   "source": [
    "**Задание**. Вычислите MSE для итоговой модели."
   ]
  },
  {
   "cell_type": "code",
   "execution_count": 51,
   "outputs": [
    {
     "data": {
      "text/plain": "tensor(3.5340, device='cuda:0', grad_fn=<MseLossBackward0>)"
     },
     "execution_count": 51,
     "metadata": {},
     "output_type": "execute_result"
    }
   ],
   "source": [
    "loss_fn(predictions, targets)"
   ],
   "metadata": {
    "collapsed": false,
    "ExecuteTime": {
     "end_time": "2024-08-14T10:07:12.096133500Z",
     "start_time": "2024-08-14T10:07:12.041803Z"
    }
   }
  },
  {
   "cell_type": "markdown",
   "metadata": {},
   "source": [
    "**Задание**. Выполните перебор гиперпараметров – скорости обучения и количества эпох (не менее пяти значений на каждый гиперпараметр) и найдите комбинацию, при которой достигается минимум MSE на обучающих данных."
   ]
  },
  {
   "cell_type": "code",
   "execution_count": 52,
   "outputs": [
    {
     "name": "stdout",
     "output_type": "stream",
     "text": [
      "lr = 0.1, epochs = 10, loss = nan\n",
      "lr = 0.1, epochs = 20, loss = nan\n",
      "lr = 0.1, epochs = 30, loss = nan\n",
      "lr = 0.1, epochs = 40, loss = nan\n",
      "lr = 0.1, epochs = 50, loss = nan\n",
      "lr = 0.01, epochs = 10, loss = 3.5423688888549805\n",
      "lr = 0.01, epochs = 20, loss = 3.5302653312683105\n",
      "lr = 0.01, epochs = 30, loss = 3.52996826171875\n",
      "lr = 0.01, epochs = 40, loss = 3.5299623012542725\n",
      "lr = 0.01, epochs = 50, loss = 3.529963493347168\n",
      "lr = 0.001, epochs = 10, loss = 3.3348052501678467\n",
      "lr = 0.001, epochs = 20, loss = 3.41349720954895\n",
      "lr = 0.001, epochs = 30, loss = 3.368387460708618\n",
      "lr = 0.001, epochs = 40, loss = 3.349292516708374\n",
      "lr = 0.001, epochs = 50, loss = 3.3255279064178467\n",
      "lr = 0.0001, epochs = 10, loss = 3.4881322383880615\n",
      "lr = 0.0001, epochs = 20, loss = 3.28560209274292\n",
      "lr = 0.0001, epochs = 30, loss = 3.2626872062683105\n",
      "lr = 0.0001, epochs = 40, loss = 3.5835142135620117\n",
      "lr = 0.0001, epochs = 50, loss = 3.547982692718506\n",
      "lr = 1e-05, epochs = 10, loss = 24.06145477294922\n",
      "lr = 1e-05, epochs = 20, loss = 9.188084602355957\n",
      "lr = 1e-05, epochs = 30, loss = 4.633880615234375\n",
      "lr = 1e-05, epochs = 40, loss = 4.287390232086182\n",
      "lr = 1e-05, epochs = 50, loss = 3.9326086044311523\n"
     ]
    }
   ],
   "source": [
    "for lr in [0.1, 0.01, 0.001, 0.0001, 0.00001]:\n",
    "    for epochs in [10, 20, 30, 40, 50]:\n",
    "        model = NeuralNetwork()\n",
    "        model.to(device)\n",
    "        optimizer = torch.optim.SGD(model.parameters(), lr=lr)\n",
    "        \n",
    "        for t in range(epochs):\n",
    "            train_loop(data, targets, model, loss_fn, optimizer, print_loss=False)\n",
    "        \n",
    "        predictions = model(data)\n",
    "        loss = loss_fn(predictions, targets)\n",
    "        print(f'lr = {lr}, epochs = {epochs}, loss = {loss}')"
   ],
   "metadata": {
    "collapsed": false,
    "ExecuteTime": {
     "end_time": "2024-08-14T10:08:37.796918100Z",
     "start_time": "2024-08-14T10:07:12.055552400Z"
    }
   }
  },
  {
   "cell_type": "code",
   "execution_count": 53,
   "outputs": [],
   "source": [
    "#lr = 0.0001, epochs = 30, loss = 3.2626872062683105"
   ],
   "metadata": {
    "collapsed": false,
    "ExecuteTime": {
     "end_time": "2024-08-14T10:08:37.801929200Z",
     "start_time": "2024-08-14T10:08:37.797930500Z"
    }
   }
  },
  {
   "cell_type": "markdown",
   "metadata": {},
   "source": [
    "### Линейная классификация в PyTorch"
   ]
  },
  {
   "cell_type": "markdown",
   "metadata": {},
   "source": [
    "#### Генерация набора данных\n",
    "Сгенерируем набор данных для классификации: объекты с меткой \"0\" будут нормально распределены вокруг точки (-1, -1),  объекты с меткой \"1\" – вокруг точки (1, 1):"
   ]
  },
  {
   "cell_type": "code",
   "execution_count": 54,
   "metadata": {
    "ExecuteTime": {
     "end_time": "2024-08-14T10:08:37.820067800Z",
     "start_time": "2024-08-14T10:08:37.810864700Z"
    }
   },
   "outputs": [],
   "source": [
    "n_samples = 100\n",
    "half = int(n_samples / 2)\n",
    "     \n",
    "x_class0 = np.random.normal(size=[half, 2]) + [-1, -1]\n",
    "y_class0 = np.zeros((half, 1))\n",
    "\n",
    "x_class1 = np.random.normal(size=[half, 2]) + [1, 1]\n",
    "y_class1 = np.ones((half, 1))\n",
    "\n",
    "data = np.vstack([x_class0, x_class1])\n",
    "targets = np.vstack([y_class0, y_class1])"
   ]
  },
  {
   "cell_type": "code",
   "execution_count": 55,
   "metadata": {
    "ExecuteTime": {
     "end_time": "2024-08-14T10:08:37.859087600Z",
     "start_time": "2024-08-14T10:08:37.816881400Z"
    }
   },
   "outputs": [],
   "source": [
    "data = data.astype(np.float32)\n",
    "targets = targets.astype(np.float32)"
   ]
  },
  {
   "cell_type": "code",
   "execution_count": 56,
   "metadata": {
    "ExecuteTime": {
     "end_time": "2024-08-14T10:08:38.039550200Z",
     "start_time": "2024-08-14T10:08:37.825071200Z"
    }
   },
   "outputs": [
    {
     "data": {
      "text/plain": "<matplotlib.collections.PathCollection at 0x192010424d0>"
     },
     "execution_count": 56,
     "metadata": {},
     "output_type": "execute_result"
    },
    {
     "data": {
      "text/plain": "<Figure size 640x480 with 1 Axes>",
      "image/png": "[encoded data removed]"
     },
     "metadata": {},
     "output_type": "display_data"
    }
   ],
   "source": [
    "plt.scatter(x_class0[:, 0], x_class0[:, 1], c='red')\n",
    "plt.scatter(x_class1[:, 0], x_class1[:, 1], c='blue')"
   ]
  },
  {
   "cell_type": "markdown",
   "metadata": {},
   "source": [
    "#### Задание.\n",
    "Постройте нейронную сеть – линейный классификатор и обучите её распознавать приведенный набор данных.  \n",
    "*Подсказка*: в качестве функции потерь можно использовать Binary Cross Entropy ([BCELOSS](https://pytorch.org/docs/stable/generated/torch.nn.BCELoss.html))."
   ]
  },
  {
   "cell_type": "code",
   "execution_count": 57,
   "outputs": [],
   "source": [
    "class NeuralNetwork(nn.Module):\n",
    "    def __init__(self):\n",
    "        super().__init__()\n",
    "        self.regr = nn.Linear(2, 1)\n",
    "\n",
    "    def forward(self, x):\n",
    "        y = self.regr(x)\n",
    "        return torch.sigmoid(y)"
   ],
   "metadata": {
    "collapsed": false,
    "ExecuteTime": {
     "end_time": "2024-08-14T10:08:38.040559500Z",
     "start_time": "2024-08-14T10:08:38.007284200Z"
    }
   }
  },
  {
   "cell_type": "code",
   "execution_count": 58,
   "outputs": [],
   "source": [
    "data = torch.from_numpy(data)\n",
    "targets = torch.from_numpy(targets)"
   ],
   "metadata": {
    "collapsed": false,
    "ExecuteTime": {
     "end_time": "2024-08-14T10:08:38.041386900Z",
     "start_time": "2024-08-14T10:08:38.013298400Z"
    }
   }
  },
  {
   "cell_type": "code",
   "execution_count": 59,
   "outputs": [
    {
     "name": "stdout",
     "output_type": "stream",
     "text": [
      "regr.weight = tensor([[-0.5424,  0.5802]])\n",
      "regr.bias = tensor([0.2037])\n"
     ]
    }
   ],
   "source": [
    "model = NeuralNetwork()\n",
    "for parameter in model.named_parameters():\n",
    "    print(f'{parameter[0]} = {parameter[1].data}')"
   ],
   "metadata": {
    "collapsed": false,
    "ExecuteTime": {
     "end_time": "2024-08-14T10:08:38.044862Z",
     "start_time": "2024-08-14T10:08:38.019917900Z"
    }
   }
  },
  {
   "cell_type": "code",
   "execution_count": 60,
   "outputs": [
    {
     "name": "stdout",
     "output_type": "stream",
     "text": [
      "regr.weight = tensor([[-0.5424,  0.5802]])\n",
      "regr.bias = tensor([0.2037])\n",
      "-------------------------------\n",
      "Epoch 1\n",
      "0.68\n",
      "regr.weight = tensor([[-0.0103,  0.8326]])\n",
      "regr.bias = tensor([0.1435])\n",
      "-------------------------------\n",
      "Epoch 2\n",
      "0.9\n",
      "regr.weight = tensor([[0.3010, 0.9578]])\n",
      "regr.bias = tensor([0.1041])\n",
      "-------------------------------\n",
      "Epoch 3\n",
      "0.91\n",
      "regr.weight = tensor([[0.5139, 1.0352]])\n",
      "regr.bias = tensor([0.0710])\n",
      "-------------------------------\n",
      "Epoch 4\n",
      "0.92\n",
      "regr.weight = tensor([[0.6743, 1.0896]])\n",
      "regr.bias = tensor([0.0406])\n",
      "-------------------------------\n",
      "Epoch 5\n",
      "0.93\n",
      "regr.weight = tensor([[0.8024, 1.1304]])\n",
      "regr.bias = tensor([0.0117])\n",
      "-------------------------------\n",
      "Epoch 6\n",
      "0.93\n",
      "regr.weight = tensor([[0.9090, 1.1626]])\n",
      "regr.bias = tensor([-0.0160])\n",
      "-------------------------------\n",
      "Epoch 7\n",
      "0.93\n",
      "regr.weight = tensor([[1.0000, 1.1887]])\n",
      "regr.bias = tensor([-0.0425])\n",
      "-------------------------------\n",
      "Epoch 8\n",
      "0.93\n",
      "regr.weight = tensor([[1.0793, 1.2105]])\n",
      "regr.bias = tensor([-0.0680])\n",
      "-------------------------------\n",
      "Epoch 9\n",
      "0.92\n",
      "regr.weight = tensor([[1.1496, 1.2288]])\n",
      "regr.bias = tensor([-0.0926])\n",
      "-------------------------------\n",
      "Epoch 10\n",
      "0.92\n",
      "regr.weight = tensor([[1.2125, 1.2446]])\n",
      "regr.bias = tensor([-0.1163])\n"
     ]
    }
   ],
   "source": [
    "loss_fn = nn.BCELoss()\n",
    "optimizer = torch.optim.SGD(model.parameters(), lr=0.01)\n",
    "\n",
    "epochs = 10\n",
    "print_weights(model)\n",
    "for t in range(epochs):\n",
    "    print(f'-------------------------------\\nEpoch {t+1}')\n",
    "    \n",
    "    model.train()\n",
    "    acc = 0\n",
    "    \n",
    "    for i in range(len(data)):\n",
    "        # Вычисляем предсказание модели на одном объекте\n",
    "        pred = model(data[i])\n",
    "        # Вычисляем функцию потерь\n",
    "        loss = loss_fn(pred, targets[i])\n",
    "\n",
    "        if round(pred.item()) == targets[i].item():\n",
    "            acc += 1\n",
    "            \n",
    "        # Backpropagation\n",
    "        optimizer.zero_grad()\n",
    "        loss.backward()\n",
    "        optimizer.step()\n",
    "    \n",
    "    acc = acc / len(data)\n",
    "    print(acc)\n",
    "    print_weights(model)"
   ],
   "metadata": {
    "collapsed": false,
    "ExecuteTime": {
     "end_time": "2024-08-14T10:08:38.828715900Z",
     "start_time": "2024-08-14T10:08:38.031552400Z"
    }
   }
  },
  {
   "cell_type": "code",
   "execution_count": 61,
   "outputs": [],
   "source": [
    "class0 = []\n",
    "class1 = []\n",
    "\n",
    "for x in data:\n",
    "    if model(x) > 0.5:\n",
    "        class1.append(x.numpy())\n",
    "    else:\n",
    "        class0.append(x.numpy())\n",
    "        \n",
    "class0 = np.array(class0)\n",
    "class1 = np.array(class1)"
   ],
   "metadata": {
    "collapsed": false,
    "ExecuteTime": {
     "end_time": "2024-08-14T10:08:38.843392200Z",
     "start_time": "2024-08-14T10:08:38.830718600Z"
    }
   }
  },
  {
   "cell_type": "code",
   "execution_count": 62,
   "outputs": [
    {
     "data": {
      "text/plain": "[<matplotlib.lines.Line2D at 0x19273c03890>]"
     },
     "execution_count": 62,
     "metadata": {},
     "output_type": "execute_result"
    },
    {
     "data": {
      "text/plain": "<Figure size 640x480 with 1 Axes>",
      "image/png": "[encoded data removed]"
     },
     "metadata": {},
     "output_type": "display_data"
    }
   ],
   "source": [
    "w1 = model.regr.weight[0][0].item()\n",
    "w2 = model.regr.weight[0][1].item()\n",
    "b = model.regr.bias[0].item()\n",
    "\n",
    "x = np.linspace(-3, 3, 100)\n",
    "\n",
    "plt.scatter(x_class0[:, 0], x_class0[:, 1], c='red')\n",
    "plt.scatter(x_class1[:, 0], x_class1[:, 1], c='blue')\n",
    "plt.plot(x, -(w1 * x + b) / w2, color='green')"
   ],
   "metadata": {
    "collapsed": false,
    "ExecuteTime": {
     "end_time": "2024-08-14T10:08:39.045660100Z",
     "start_time": "2024-08-14T10:08:38.848395600Z"
    }
   }
  },
  {
   "cell_type": "code",
   "execution_count": 63,
   "outputs": [
    {
     "data": {
      "text/plain": "<matplotlib.collections.PathCollection at 0x19201312a50>"
     },
     "execution_count": 63,
     "metadata": {},
     "output_type": "execute_result"
    },
    {
     "data": {
      "text/plain": "<Figure size 640x480 with 1 Axes>",
      "image/png": "[encoded data removed]"
     },
     "metadata": {},
     "output_type": "display_data"
    }
   ],
   "source": [
    "plt.scatter(class0[:, 0], class0[:, 1], c='red')\n",
    "plt.scatter(class1[:, 0], class1[:, 1], c='blue')"
   ],
   "metadata": {
    "collapsed": false,
    "ExecuteTime": {
     "end_time": "2024-08-14T10:08:39.218374400Z",
     "start_time": "2024-08-14T10:08:39.033661800Z"
    }
   }
  },
  {
   "cell_type": "markdown",
   "metadata": {},
   "source": [
    "#### Задание (факультативное).\n",
    "Прочитать параграф 2.6 в учебнике С. Николенко и др. (стр. 81–92) и воспроизвести рассмотренные там нейронные сети на TensorFlow и Keras."
   ]
  }
 ],
 "metadata": {
  "kernelspec": {
   "display_name": "Python 3 (ipykernel)",
   "language": "python",
   "name": "python3"
  },
  "language_info": {
   "codemirror_mode": {
    "name": "ipython",
    "version": 3
   },
   "file_extension": ".py",
   "mimetype": "text/x-python",
   "name": "python",
   "nbconvert_exporter": "python",
   "pygments_lexer": "ipython3",
   "version": "3.9.12"
  }
 },
 "nbformat": 4,
 "nbformat_minor": 4
}
